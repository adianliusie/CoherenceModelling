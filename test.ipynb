{
 "cells": [
  {
   "cell_type": "code",
   "execution_count": 1,
   "metadata": {},
   "outputs": [],
   "source": [
    "from src.experiment import ExperimentHandler"
   ]
  },
  {
   "cell_type": "code",
   "execution_count": null,
   "metadata": {},
   "outputs": [
    {
     "name": "stderr",
     "output_type": "stream",
     "text": [
      "100%|██████████| 300000/300000 [00:17<00:00, 17438.77it/s]\n",
      "100%|██████████| 700000/700000 [01:22<00:00, 8481.47it/s] \n"
     ]
    },
    {
     "name": "stdout",
     "output_type": "stream",
     "text": [
      "500   0.695   0.499\n",
      "1000  0.693   0.588\n",
      "1500  0.693   0.612\n",
      "2000  0.693   0.602\n",
      "2500  0.693   0.606\n",
      "3000  0.686   0.636\n",
      "3500  0.673   0.620\n",
      "4000  0.674   0.592\n",
      "4500  0.661   0.646\n",
      "5000  0.662   0.630\n",
      "5500  0.665   0.604\n",
      "6000  0.659   0.636\n",
      "6500  0.647   0.648\n",
      "7000  0.645   0.632\n",
      "7500  0.662   0.612\n",
      "8000  0.645   0.650\n",
      "8500  0.657   0.590\n",
      "9000  0.635   0.682\n",
      "9500  0.636   0.696\n",
      "10000 0.632   0.644\n",
      "10500 0.617   0.682\n",
      "11000 0.646   0.654\n",
      "11500 0.625   0.652\n",
      "12000 0.631   0.676\n",
      "12500 0.627   0.674\n",
      "13000 0.630   0.668\n",
      "13500 0.624   0.654\n",
      "14000 0.636   0.646\n",
      "14500 0.613   0.674\n",
      "15000 0.604   0.718\n"
     ]
    }
   ],
   "source": [
    "from collections import namedtuple\n",
    "import torch\n",
    "\n",
    "config_dict =  {'system':'glove', 'embed_lim':300000, 'attention':False, 'hier':False,\n",
    "                'bsz':6, 'lr':1e-5, 'epochs':30, 'scheduling':False, \n",
    "                'data_src':'wiki', 'c_num':1, 'schemes':[1], 'args':None, 'max_len':512,\n",
    "                'debug_sz':500, 'debug':True}\n",
    "\n",
    "ConfigTruple = namedtuple('Config', config_dict)\n",
    "config = ConfigTruple(**config_dict)\n",
    "\n",
    "E = ExperimentHandler()\n",
    "E.train(config)"
   ]
  },
  {
   "cell_type": "code",
   "execution_count": null,
   "metadata": {},
   "outputs": [],
   "source": []
  }
 ],
 "metadata": {
  "kernelspec": {
   "display_name": "Python 3",
   "language": "python",
   "name": "python3"
  },
  "language_info": {
   "codemirror_mode": {
    "name": "ipython",
    "version": 3
   },
   "file_extension": ".py",
   "mimetype": "text/x-python",
   "name": "python",
   "nbconvert_exporter": "python",
   "pygments_lexer": "ipython3",
   "version": "3.8.5"
  }
 },
 "nbformat": 4,
 "nbformat_minor": 4
}
