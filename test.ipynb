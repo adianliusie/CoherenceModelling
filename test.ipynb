{
 "cells": [
  {
   "cell_type": "code",
   "execution_count": 1,
   "metadata": {},
   "outputs": [],
   "source": [
    "from src.experiment import ExperimentHandler"
   ]
  },
  {
   "cell_type": "code",
   "execution_count": null,
   "metadata": {},
   "outputs": [
    {
     "name": "stderr",
     "output_type": "stream",
     "text": [
      "100%|██████████| 100000/100000 [01:20<00:00, 1236.56it/s]\n"
     ]
    },
    {
     "name": "stdout",
     "output_type": "stream",
     "text": [
      "100   0.522   0.7706\n",
      "200   0.305   0.8717\n",
      "300   0.256   0.8983\n",
      "400   0.214   0.9167\n",
      "500   0.230   0.9050\n",
      "600   0.213   0.9150\n",
      "700   0.187   0.9267\n",
      "800   0.173   0.9283\n",
      "900   0.167   0.9300\n",
      "1000  0.132   0.9483\n",
      "1100  0.182   0.9367\n",
      "1200  0.165   0.9333\n",
      "1300  0.154   0.9400\n",
      "1400  0.148   0.9417\n",
      "1500  0.130   0.9450\n",
      "1600  0.125   0.9483\n",
      "1700  0.167   0.9200\n",
      "1800  0.152   0.9400\n",
      "1900  0.131   0.9467\n",
      "2000  0.108   0.9517\n",
      "2100  0.116   0.9500\n",
      "2200  0.108   0.9517\n",
      "2300  0.128   0.9533\n",
      "2400  0.122   0.9483\n",
      "2500  0.110   0.9550\n",
      "2600  0.119   0.9617\n",
      "2700  0.117   0.9533\n",
      "2800  0.109   0.9567\n",
      "2900  0.132   0.9450\n",
      "3000  0.121   0.9600\n",
      "3100  0.103   0.9583\n",
      "3200  0.064   0.9767\n",
      "3300  0.106   0.9667\n",
      "3400  0.129   0.9567\n",
      "3500  0.136   0.9450\n",
      "3600  0.099   0.9600\n",
      "3700  0.089   0.9683\n",
      "3800  0.118   0.9567\n",
      "3900  0.091   0.9617\n",
      "4000  0.086   0.9700\n",
      "4100  0.111   0.9583\n",
      "4200  0.124   0.9583\n",
      "4300  0.107   0.9500\n",
      "4400  0.100   0.9717\n",
      "4500  0.102   0.9600\n",
      "4600  0.108   0.9633\n",
      "4700  0.114   0.9567\n",
      "4800  0.093   0.9683\n",
      "4900  0.125   0.9483\n",
      "5000  0.120   0.9550\n",
      "5100  0.098   0.9600\n",
      "5200  0.089   0.9683\n",
      "5300  0.103   0.9517\n",
      "5400  0.092   0.9583\n",
      "5500  0.096   0.9667\n"
     ]
    }
   ],
   "source": [
    "from collections import namedtuple\n",
    "import torch\n",
    "\n",
    "config_dict =  {'system':'bert', 'embed_lim':100000, 'attention':False, 'hier':False,\n",
    "                'bsz':6, 'lr':1e-5, 'epochs':30, 'scheduling':False, \n",
    "                'data_src':'wiki_small', 'c_num':1, 'schemes':[1], 'args':None, 'max_len':512,\n",
    "                'debug_sz':100, 'debug':True}\n",
    "\n",
    "ConfigTruple = namedtuple('Config', config_dict)\n",
    "config = ConfigTruple(**config_dict)\n",
    "\n",
    "E = ExperimentHandler()\n",
    "E.train(config)"
   ]
  },
  {
   "cell_type": "code",
   "execution_count": null,
   "metadata": {},
   "outputs": [],
   "source": []
  }
 ],
 "metadata": {
  "kernelspec": {
   "display_name": "Python 3",
   "language": "python",
   "name": "python3"
  },
  "language_info": {
   "codemirror_mode": {
    "name": "ipython",
    "version": 3
   },
   "file_extension": ".py",
   "mimetype": "text/x-python",
   "name": "python",
   "nbconvert_exporter": "python",
   "pygments_lexer": "ipython3",
   "version": "3.8.5"
  }
 },
 "nbformat": 4,
 "nbformat_minor": 4
}
