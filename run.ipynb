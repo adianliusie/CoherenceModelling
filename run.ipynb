{
 "cells": [
  {
   "cell_type": "code",
   "execution_count": 1,
   "metadata": {},
   "outputs": [],
   "source": [
    "from src.experiment import ExperimentHandler"
   ]
  },
  {
   "cell_type": "code",
   "execution_count": null,
   "metadata": {},
   "outputs": [
    {
     "name": "stdout",
     "output_type": "stream",
     "text": [
      "Parameters: Config(system='bert', embed_lim=100000, attention=False, hier=False, bsz=6, lr=1e-05, epochs=30, scheduling=False, data_src='wsj', c_num=6, schemes=[1], args=None, max_len=512, debug_sz=100, debug=True)\n",
      "flat bert transformer being used with attention=False\n",
      "BEGINNING TRAINING:  1277 BATCHESs PER EPOCH\n"
     ]
    },
    {
     "name": "stderr",
     "output_type": "stream",
     "text": [
      "100%|██████████| 1277/1277 [00:03<00:00, 419.86it/s]\n"
     ]
    },
    {
     "name": "stdout",
     "output_type": "stream",
     "text": [
      "0  100    0.576   0.7706\n",
      "0  200    0.249   0.8950\n",
      "0  300    0.200   0.9083\n",
      "0  400    0.136   0.9433\n",
      "0  500    0.132   0.9350\n",
      "0  600    0.138   0.9333\n"
     ]
    },
    {
     "name": "stderr",
     "output_type": "stream",
     "text": [
      "100%|██████████| 198/198 [00:00<00:00, 396.15it/s]\n"
     ]
    },
    {
     "name": "stdout",
     "output_type": "stream",
     "text": [
      "\n",
      "198   0.149   0.9250\n",
      " ----------------------------------------------------------------------------------------------------\n"
     ]
    },
    {
     "name": "stderr",
     "output_type": "stream",
     "text": [
      "100%|██████████| 1277/1277 [00:02<00:00, 431.82it/s]\n"
     ]
    },
    {
     "name": "stdout",
     "output_type": "stream",
     "text": [
      "1  100    0.069   0.9802\n",
      "1  200    0.070   0.9750\n",
      "1  300    0.050   0.9833\n",
      "1  400    0.068   0.9733\n",
      "1  500    0.060   0.9767\n",
      "1  600    0.057   0.9783\n"
     ]
    },
    {
     "name": "stderr",
     "output_type": "stream",
     "text": [
      "100%|██████████| 198/198 [00:00<00:00, 398.25it/s]\n"
     ]
    },
    {
     "name": "stdout",
     "output_type": "stream",
     "text": [
      "\n",
      "198   0.144   0.9266\n",
      " ----------------------------------------------------------------------------------------------------\n"
     ]
    },
    {
     "name": "stderr",
     "output_type": "stream",
     "text": [
      "100%|██████████| 1277/1277 [00:03<00:00, 347.91it/s]\n"
     ]
    },
    {
     "name": "stdout",
     "output_type": "stream",
     "text": [
      "2  100    0.043   0.9884\n",
      "2  200    0.025   0.9967\n",
      "2  300    0.038   0.9883\n",
      "2  400    0.047   0.9833\n",
      "2  500    0.037   0.9883\n",
      "2  600    0.037   0.9867\n"
     ]
    },
    {
     "name": "stderr",
     "output_type": "stream",
     "text": [
      "100%|██████████| 198/198 [00:00<00:00, 395.96it/s]\n"
     ]
    },
    {
     "name": "stdout",
     "output_type": "stream",
     "text": [
      "\n",
      "198   0.167   0.9282\n",
      " ----------------------------------------------------------------------------------------------------\n"
     ]
    },
    {
     "name": "stderr",
     "output_type": "stream",
     "text": [
      "100%|██████████| 1277/1277 [00:03<00:00, 353.41it/s]\n"
     ]
    },
    {
     "name": "stdout",
     "output_type": "stream",
     "text": [
      "3  100    0.007   1.0000\n",
      "3  200    0.018   0.9933\n",
      "3  300    0.013   0.9933\n",
      "3  400    0.017   0.9983\n",
      "3  500    0.019   0.9933\n",
      "3  600    0.019   0.9933\n"
     ]
    },
    {
     "name": "stderr",
     "output_type": "stream",
     "text": [
      "100%|██████████| 198/198 [00:00<00:00, 356.46it/s]\n"
     ]
    },
    {
     "name": "stdout",
     "output_type": "stream",
     "text": [
      "\n",
      "198   0.157   0.9527\n",
      " ----------------------------------------------------------------------------------------------------\n"
     ]
    },
    {
     "name": "stderr",
     "output_type": "stream",
     "text": [
      "100%|██████████| 1277/1277 [00:02<00:00, 433.53it/s]\n"
     ]
    },
    {
     "name": "stdout",
     "output_type": "stream",
     "text": [
      "4  100    0.013   0.9967\n",
      "4  200    0.005   0.9983\n",
      "4  300    0.005   1.0000\n",
      "4  400    0.002   1.0000\n",
      "4  500    0.010   0.9983\n",
      "4  600    0.004   0.9983\n"
     ]
    },
    {
     "name": "stderr",
     "output_type": "stream",
     "text": [
      "100%|██████████| 198/198 [00:00<00:00, 393.39it/s]\n"
     ]
    },
    {
     "name": "stdout",
     "output_type": "stream",
     "text": [
      "\n",
      "198   0.171   0.9152\n",
      " ----------------------------------------------------------------------------------------------------\n"
     ]
    },
    {
     "name": "stderr",
     "output_type": "stream",
     "text": [
      "100%|██████████| 1277/1277 [00:02<00:00, 431.18it/s]\n"
     ]
    },
    {
     "name": "stdout",
     "output_type": "stream",
     "text": [
      "5  100    0.008   0.9967\n",
      "5  200    0.007   0.9950\n",
      "5  300    0.007   0.9983\n",
      "5  400    0.005   0.9983\n",
      "5  500    0.010   0.9967\n",
      "5  600    0.006   1.0000\n"
     ]
    },
    {
     "name": "stderr",
     "output_type": "stream",
     "text": [
      "100%|██████████| 198/198 [00:00<00:00, 358.14it/s]\n"
     ]
    },
    {
     "name": "stdout",
     "output_type": "stream",
     "text": [
      "\n",
      "198   0.106   0.9462\n",
      " ----------------------------------------------------------------------------------------------------\n"
     ]
    },
    {
     "name": "stderr",
     "output_type": "stream",
     "text": [
      "100%|██████████| 1277/1277 [00:02<00:00, 432.77it/s]\n"
     ]
    },
    {
     "name": "stdout",
     "output_type": "stream",
     "text": [
      "6  100    0.006   0.9983\n",
      "6  200    0.006   1.0000\n",
      "6  300    0.013   0.9933\n",
      "6  400    0.002   1.0000\n",
      "6  500    0.007   0.9983\n",
      "6  600    0.003   1.0000\n"
     ]
    },
    {
     "name": "stderr",
     "output_type": "stream",
     "text": [
      "100%|██████████| 198/198 [00:00<00:00, 395.58it/s]\n"
     ]
    },
    {
     "name": "stdout",
     "output_type": "stream",
     "text": [
      "\n",
      "198   0.165   0.9364\n",
      " ----------------------------------------------------------------------------------------------------\n"
     ]
    },
    {
     "name": "stderr",
     "output_type": "stream",
     "text": [
      "100%|██████████| 1277/1277 [00:02<00:00, 432.08it/s]\n"
     ]
    },
    {
     "name": "stdout",
     "output_type": "stream",
     "text": [
      "7  100    0.002   1.0000\n",
      "7  200    0.006   0.9967\n",
      "7  300    0.006   0.9983\n",
      "7  400    0.004   1.0000\n",
      "7  500    0.022   0.9967\n",
      "7  600    0.006   0.9967\n"
     ]
    },
    {
     "name": "stderr",
     "output_type": "stream",
     "text": [
      "100%|██████████| 198/198 [00:00<00:00, 397.85it/s]\n"
     ]
    },
    {
     "name": "stdout",
     "output_type": "stream",
     "text": [
      "\n",
      "198   0.154   0.9462\n",
      " ----------------------------------------------------------------------------------------------------\n"
     ]
    },
    {
     "name": "stderr",
     "output_type": "stream",
     "text": [
      "100%|██████████| 1277/1277 [00:02<00:00, 433.29it/s]\n"
     ]
    },
    {
     "name": "stdout",
     "output_type": "stream",
     "text": [
      "8  100    0.004   0.9983\n",
      "8  200    0.006   0.9983\n",
      "8  300    0.010   0.9983\n",
      "8  400    0.005   1.0000\n",
      "8  500    0.004   1.0000\n",
      "8  600    0.008   0.9983\n"
     ]
    },
    {
     "name": "stderr",
     "output_type": "stream",
     "text": [
      "100%|██████████| 198/198 [00:00<00:00, 393.07it/s]\n"
     ]
    },
    {
     "name": "stdout",
     "output_type": "stream",
     "text": [
      "\n",
      "198   0.142   0.9396\n",
      " ----------------------------------------------------------------------------------------------------\n"
     ]
    },
    {
     "name": "stderr",
     "output_type": "stream",
     "text": [
      "100%|██████████| 1277/1277 [00:02<00:00, 430.75it/s]\n"
     ]
    },
    {
     "name": "stdout",
     "output_type": "stream",
     "text": [
      "9  100    0.001   1.0000\n",
      "9  200    0.017   0.9983\n",
      "9  300    0.004   1.0000\n",
      "9  400    0.001   1.0000\n",
      "9  500    0.001   1.0000\n",
      "9  600    0.002   1.0000\n"
     ]
    },
    {
     "name": "stderr",
     "output_type": "stream",
     "text": [
      "100%|██████████| 198/198 [00:00<00:00, 393.70it/s]\n"
     ]
    },
    {
     "name": "stdout",
     "output_type": "stream",
     "text": [
      "\n",
      "198   0.203   0.9184\n",
      " ----------------------------------------------------------------------------------------------------\n"
     ]
    },
    {
     "name": "stderr",
     "output_type": "stream",
     "text": [
      "100%|██████████| 1277/1277 [00:02<00:00, 431.65it/s]\n"
     ]
    },
    {
     "name": "stdout",
     "output_type": "stream",
     "text": [
      "10 100    0.001   1.0000\n",
      "10 200    0.001   1.0000\n",
      "10 300    0.001   1.0000\n",
      "10 400    0.003   1.0000\n",
      "10 500    0.002   1.0000\n",
      "10 600    0.002   1.0000\n"
     ]
    },
    {
     "name": "stderr",
     "output_type": "stream",
     "text": [
      "100%|██████████| 198/198 [00:00<00:00, 394.01it/s]\n"
     ]
    },
    {
     "name": "stdout",
     "output_type": "stream",
     "text": [
      "\n",
      "198   0.231   0.9250\n",
      " ----------------------------------------------------------------------------------------------------\n"
     ]
    },
    {
     "name": "stderr",
     "output_type": "stream",
     "text": [
      "100%|██████████| 1277/1277 [00:02<00:00, 432.66it/s]\n"
     ]
    },
    {
     "name": "stdout",
     "output_type": "stream",
     "text": [
      "11 100    0.006   0.9983\n",
      "11 200    0.006   0.9983\n",
      "11 300    0.002   1.0000\n",
      "11 400    0.002   1.0000\n"
     ]
    }
   ],
   "source": [
    "from collections import namedtuple\n",
    "import torch\n",
    "\n",
    "config_dict =  {'system':'bert', 'embed_lim':100000, 'attention':True, 'hier':False,\n",
    "                'bsz':6, 'lr':1e-5, 'epochs':30, 'scheduling':False, \n",
    "                'data_src':'wsj', 'c_num':6, 'schemes':[1], 'args':None, 'max_len':512,\n",
    "                'debug_sz':100, 'debug':True}\n",
    "\n",
    "ConfigTruple = namedtuple('Config', config_dict)\n",
    "config = ConfigTruple(**config_dict)\n",
    "\n",
    "E = ExperimentHandler()\n",
    "E.train(config)"
   ]
  },
  {
   "cell_type": "code",
   "execution_count": null,
   "metadata": {},
   "outputs": [],
   "source": []
  }
 ],
 "metadata": {
  "kernelspec": {
   "display_name": "Python 3",
   "language": "python",
   "name": "python3"
  },
  "language_info": {
   "codemirror_mode": {
    "name": "ipython",
    "version": 3
   },
   "file_extension": ".py",
   "mimetype": "text/x-python",
   "name": "python",
   "nbconvert_exporter": "python",
   "pygments_lexer": "ipython3",
   "version": "3.8.5"
  }
 },
 "nbformat": 4,
 "nbformat_minor": 4
}
