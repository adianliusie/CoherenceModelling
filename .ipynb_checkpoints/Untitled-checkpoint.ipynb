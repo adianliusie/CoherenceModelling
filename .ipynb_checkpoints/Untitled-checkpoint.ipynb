{
 "cells": [
  {
   "cell_type": "code",
   "execution_count": 1,
   "metadata": {},
   "outputs": [],
   "source": [
    "from src.experiment import ExperimentHandler"
   ]
  },
  {
   "cell_type": "code",
   "execution_count": 2,
   "metadata": {
    "scrolled": true
   },
   "outputs": [
    {
     "name": "stdout",
     "output_type": "stream",
     "text": [
      "Corrupted Training Parameters: \n",
      " namespace(args=None, bsz=5, c_num=1, data_src='wiki_tiny', debug_len=None, epochs=1, loss='ranking', lr=1e-05, max_len=512, optim='adam', print_len=50, scheduling=False, schemes=[1])\n",
      "BEGINNING TRAINING: ~200 BATCHES PER EPOCH\n"
     ]
    },
    {
     "name": "stderr",
     "output_type": "stream",
     "text": [
      "100%|██████████| 1000/1000 [00:01<00:00, 610.82it/s]\n"
     ]
    },
    {
     "name": "stdout",
     "output_type": "stream",
     "text": [
      "1  50     0.710    0.5373\n",
      "1  100    0.697    0.5640\n",
      "1  150    0.599    0.7560\n"
     ]
    },
    {
     "name": "stderr",
     "output_type": "stream",
     "text": [
      "100%|██████████| 200/200 [00:00<00:00, 338.54it/s]\n"
     ]
    },
    {
     "name": "stdout",
     "output_type": "stream",
     "text": [
      "\n",
      " DEV  0.267   0.9050\n",
      "\n",
      "clinton     MSE:53.22  spear:0.359  acc:0.29\n",
      "enron       MSE:41.69  spear:0.280  acc:0.33\n",
      "yahoo       MSE:49.01  spear:0.031  acc:0.47\n",
      "yelp        MSE:45.32  spear:0.188  acc:0.24\n",
      "GCDC correlation 0.2143504706662213\n",
      "----------------------------------------------------------------------------------------------------\n",
      "SAVING MODEL AT EPOCH 1\n",
      "Supervised Training Parameters: \n",
      " namespace(bsz=5, data_lim=None, data_src='gcdc', epochs=4, loss='mse', lr=1e-05, max_len=512, optim='adam', print_len=40, scheduling=False)\n",
      "1  40     8.404    0.2537\n",
      "1  80     2.636    0.2600\n",
      "1  120    2.624    0.3000\n",
      "1  160    2.714    0.3100\n",
      "clinton     MSE: 2.68  spear:0.420  acc:0.41\n",
      "enron       MSE: 2.42  spear:0.270  acc:0.41\n",
      "yahoo       MSE: 2.76  spear:0.300  acc:0.24\n",
      "yelp        MSE: 2.25  spear:0.284  acc:0.31\n",
      "2  40     2.425    0.3902\n",
      "2  80     2.137    0.5900\n",
      "2  120    1.809    0.5100\n",
      "2  160    1.740    0.5500\n",
      "clinton     MSE: 2.41  spear:0.624  acc:0.48\n",
      "enron       MSE: 2.03  spear:0.476  acc:0.51\n",
      "yahoo       MSE: 2.82  spear:0.454  acc:0.43\n",
      "yelp        MSE: 2.70  spear:0.360  acc:0.31\n",
      "3  40     1.783    0.5707\n",
      "3  80     1.454    0.5950\n",
      "3  120    1.575    0.5850\n",
      "3  160    1.635    0.6100\n",
      "clinton     MSE: 1.88  spear:0.663  acc:0.56\n",
      "enron       MSE: 2.00  spear:0.521  acc:0.53\n",
      "yahoo       MSE: 2.01  spear:0.557  acc:0.45\n",
      "yelp        MSE: 1.84  spear:0.434  acc:0.51\n",
      "4  40     1.293    0.6049\n",
      "4  80     1.220    0.6550\n",
      "4  120    1.553    0.5800\n",
      "4  160    1.150    0.6800\n",
      "clinton     MSE: 1.69  spear:0.669  acc:0.64\n",
      "enron       MSE: 2.09  spear:0.512  acc:0.53\n",
      "yahoo       MSE: 1.94  spear:0.553  acc:0.52\n",
      "yelp        MSE: 1.87  spear:0.422  acc:0.55\n"
     ]
    }
   ],
   "source": [
    "from types import SimpleNamespace\n",
    "\n",
    "model_cfg  = {'system':'roberta', 'pooling':'first', 'hier':False, 'save':False, 'device':'cuda'}\n",
    "\n",
    "ptrain_cfg = {'bsz':5, 'lr':1e-5, 'epochs':1, 'scheduling':False, 'optim':'adam',\n",
    "              'data_src':'wiki_small', 'loss':'ranking', 'c_num':1, 'schemes':[1], 'args':None,\n",
    "              'max_len':512, 'print_len':100, 'debug_len':None, 'check_len':500}\n",
    "\n",
    "train_cfg  = {'bsz':5, 'lr':1e-5, 'epochs':4, 'scheduling':False, 'optim':'adam',\n",
    "              'data_src':'gcdc', 'data_lim':None, 'loss':'mse', 'max_len':512, 'print_len':40}\n",
    "\n",
    "model_cfg  = SimpleNamespace(**model_cfg)\n",
    "ptrain_cfg = SimpleNamespace(**ptrain_cfg)\n",
    "train_cfg  = SimpleNamespace(**train_cfg)\n",
    "\n",
    "#ptrain_cfg = None\n",
    "E = ExperimentHandler(model_cfg, ptrain_cfg, train_cfg)"
   ]
  },
  {
   "cell_type": "code",
   "execution_count": 3,
   "metadata": {},
   "outputs": [],
   "source": [
    "from src.utils import Batcher, DataHandler, Logger\n",
    "\n",
    "D = DataHandler('gcdc')\n"
   ]
  },
  {
   "cell_type": "markdown",
   "metadata": {},
   "source": [
    "train_config =  {'system':'glove', 'pooling':'attention', 'hier':True, \n",
    "                'bsz':32, 'lr':1e-3, 'epochs':30, 'scheduling':False, 'optimizer':'rmsprop',\n",
    "                'data_src':'wsj', 'loss':'classification', 'c_num':20, 'schemes':[1], 'args':None,\n",
    "                'max_len':512, 'debug_sz':50, 'debug_cut':None, 'gcdc_sz':3000,\n",
    "                'save':False, 'model_name':'glove-flat'}"
   ]
  },
  {
   "cell_type": "markdown",
   "metadata": {},
   "source": [
    "import json\n",
    "def save_json(path, data):\n",
    "    with open(path, 'x') as jsonFile:\n",
    "        json.dump(data, jsonFile)\n",
    "        jsonFile.close()\n",
    "\n",
    "save_json('./config.json', train_config)"
   ]
  }
 ],
 "metadata": {
  "kernelspec": {
   "display_name": "Python 3",
   "language": "python",
   "name": "python3"
  },
  "language_info": {
   "codemirror_mode": {
    "name": "ipython",
    "version": 3
   },
   "file_extension": ".py",
   "mimetype": "text/x-python",
   "name": "python",
   "nbconvert_exporter": "python",
   "pygments_lexer": "ipython3",
   "version": "3.8.5"
  }
 },
 "nbformat": 4,
 "nbformat_minor": 4
}
