{
 "cells": [
  {
   "cell_type": "code",
   "execution_count": 1,
   "metadata": {},
   "outputs": [],
   "source": [
    "from src.experiment import ExperimentHandler"
   ]
  },
  {
   "cell_type": "code",
   "execution_count": null,
   "metadata": {
    "scrolled": true
   },
   "outputs": [
    {
     "name": "stdout",
     "output_type": "stream",
     "text": [
      "Model Parameters: \n",
      " namespace(device='cuda:0', ensemble=None, exp_name='rob_wiki_rank', hier=False, pooling='first', save=True, system='roberta') \n",
      "\n",
      "BEGINNING TRAINING: ~25000 BATCHES PER EPOCH\n"
     ]
    },
    {
     "name": "stderr",
     "output_type": "stream",
     "text": [
      "100%|██████████| 100000/100000 [01:22<00:00, 1215.18it/s]\n"
     ]
    },
    {
     "name": "stdout",
     "output_type": "stream",
     "text": [
      "1   100     0.695  0.5150\n",
      "1   200     0.688  0.5600\n",
      "1   300     0.629  0.6150\n",
      "1   400     0.374  0.8575\n",
      "1   500     0.291  0.8700\n",
      "1   600     0.239  0.9025\n",
      "1   700     0.214  0.9075\n",
      "1   800     0.189  0.9200\n",
      "1   900     0.202  0.9300\n"
     ]
    }
   ],
   "source": [
    "from types import SimpleNamespace\n",
    "\n",
    "model_cfg  = {'system':'roberta', 'pooling':'first', 'hier':False, 'device':'cuda:0',\n",
    "              'save':True, 'exp_name':'rob_wiki_rank', 'ensemble':None}\n",
    "\n",
    "ptrain_cfg = {'bsz':4, 'lr':1e-5, 'epochs':1, 'scheduling':False, 'optim':'adam', \n",
    "              'data_src':'wiki_tiny', 'loss':'ranking', 'c_num':1, 'schemes':[2], 'args':[1],\n",
    "              'max_len':512, 'print_len':100, 'data_lim':None, 'check_len':None,\n",
    "              'reg':None, 'reg_lr':0.001}\n",
    "\n",
    "train_cfg  = {'bsz':4, 'lr':1e-5, 'epochs':8, 'scheduling':False, 'optim':'adam',\n",
    "              'data_src':'gcdc', 'data_lim':None, 'loss':'mse', 'max_len':512, 'print_len':40}\n",
    "\n",
    "if model_cfg['system'] == 'bert':\n",
    "    assert train_cfg['lr'] < 5e-4\n",
    "\n",
    "if model_cfg['system'] == 'glove':\n",
    "    assert train_cfg['lr'] > 5e-4\n",
    "\n",
    "model_cfg  = SimpleNamespace(**model_cfg)\n",
    "ptrain_cfg = SimpleNamespace(**ptrain_cfg)\n",
    "train_cfg  = SimpleNamespace(**train_cfg)\n",
    "\n",
    "#ptrain_cfg=None\n",
    "E = ExperimentHandler(model_cfg, ptrain_cfg, train_cfg)\n",
    "E.run()"
   ]
  },
  {
   "cell_type": "code",
   "execution_count": null,
   "metadata": {},
   "outputs": [],
   "source": []
  },
  {
   "cell_type": "code",
   "execution_count": null,
   "metadata": {},
   "outputs": [],
   "source": []
  }
 ],
 "metadata": {
  "kernelspec": {
   "display_name": "Python 3",
   "language": "python",
   "name": "python3"
  },
  "language_info": {
   "codemirror_mode": {
    "name": "ipython",
    "version": 3
   },
   "file_extension": ".py",
   "mimetype": "text/x-python",
   "name": "python",
   "nbconvert_exporter": "python",
   "pygments_lexer": "ipython3",
   "version": "3.8.5"
  }
 },
 "nbformat": 4,
 "nbformat_minor": 4
}
