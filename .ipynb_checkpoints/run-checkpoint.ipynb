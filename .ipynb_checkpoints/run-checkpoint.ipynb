{
 "cells": [
  {
   "cell_type": "code",
   "execution_count": 1,
   "metadata": {},
   "outputs": [],
   "source": [
    "from src.experiment import ExperimentHandler"
   ]
  },
  {
   "cell_type": "code",
   "execution_count": null,
   "metadata": {
    "scrolled": true
   },
   "outputs": [
    {
     "name": "stdout",
     "output_type": "stream",
     "text": [
      "Parameters: Config(system='glove', pooling='attention', hier=False, bsz=6, lr=0.0001, epochs=200, scheduling=False, optimizer='adam', data_src='wiki_small', loss='ranking', c_num=1, schemes=[1], args=None, max_len=512, debug_sz=100, debug_cut=None, gcdc_sz=3000)\n"
     ]
    },
    {
     "name": "stderr",
     "output_type": "stream",
     "text": [
      "100%|██████████| 300000/300000 [00:16<00:00, 17927.05it/s]\n"
     ]
    },
    {
     "name": "stdout",
     "output_type": "stream",
     "text": [
      "BEGINNING TRAINING:  16666 BATCHES PER EPOCH\n"
     ]
    },
    {
     "name": "stderr",
     "output_type": "stream",
     "text": [
      "100%|██████████| 100000/100000 [00:11<00:00, 8723.15it/s]\n"
     ]
    }
   ],
   "source": [
    "from collections import namedtuple\n",
    "import torch\n",
    "\n",
    "train_config =  {'system':'glove', 'pooling':'attention', 'hier':False, \n",
    "                'bsz':6, 'lr':1e-4, 'epochs':200, 'scheduling':False, 'optimizer':'adam',\n",
    "                'data_src':'wiki_small', 'loss':'ranking', 'c_num':1, 'schemes':[1], 'args':None,\n",
    "                'max_len':512, 'debug_sz':20, 'debug_cut':3000, 'gcdc_sz':3000}\n",
    "\n",
    "ConfigTruple = namedtuple('Config', train_config)\n",
    "config = ConfigTruple(**train_config)\n",
    "\n",
    "E = ExperimentHandler()\n",
    "E.train_corruption(config)\n",
    "E.eval_GCDC(config)"
   ]
  }
 ],
 "metadata": {
  "kernelspec": {
   "display_name": "Python 3",
   "language": "python",
   "name": "python3"
  },
  "language_info": {
   "codemirror_mode": {
    "name": "ipython",
    "version": 3
   },
   "file_extension": ".py",
   "mimetype": "text/x-python",
   "name": "python",
   "nbconvert_exporter": "python",
   "pygments_lexer": "ipython3",
   "version": "3.8.5"
  }
 },
 "nbformat": 4,
 "nbformat_minor": 4
}
