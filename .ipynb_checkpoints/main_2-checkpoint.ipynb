{
 "cells": [
  {
   "cell_type": "code",
   "execution_count": 1,
   "metadata": {
    "scrolled": true
   },
   "outputs": [
    {
     "name": "stdout",
     "output_type": "stream",
     "text": [
      "Model Parameters: \n",
      " namespace(device='cuda:0', ensemble=2, exp_name='letssee/clinton', hier=False, pooling='first', save=True, system='roberta') \n",
      "\n",
      "\n",
      "1 clinton   MSE:2.87  spear:0.564  acc:0.50  mean:6.647  var:0.007\n",
      "1 saving\n",
      "\n",
      "2 clinton   MSE:1.95  spear:0.628  acc:0.56  mean:6.740  var:0.476\n",
      "2 saving\n",
      "\n",
      "3 clinton   MSE:1.67  spear:0.639  acc:0.62  mean:6.629  var:0.912\n",
      "3 saving\n",
      "\n",
      "TEST (e3) clinton   MSE:1.59  spear:0.626  acc:0.62  mean:6.525  var:0.968\n",
      "TEST (e3) enron     MSE:1.78  spear:0.574  acc:0.55  mean:6.399  var:0.788\n",
      "TEST (e3) yahoo     MSE:2.04  spear:0.579  acc:0.47  mean:5.618  var:0.516\n",
      "TEST (e3) yelp      MSE:2.06  spear:0.422  acc:0.39  mean:5.709  var:0.478\n",
      "\n"
     ]
    }
   ],
   "source": [
    "from src.experiment import ExperimentHandler\n",
    "from types import SimpleNamespace\n",
    "\n",
    "model_cfg  = {'system':'roberta', 'pooling':'first', 'hier':False, 'device':'cuda:0',\n",
    "              'save':True, 'exp_name':'letssee/clinton', 'ensemble':2}\n",
    "\n",
    "train_cfg  = {'bsz':5, 'lr':1e-5, 'epochs':5, 'scheduling':True, 'optim':'adam',\n",
    "              'data_src':'clinton', 'data_lim':None, 'loss':'mse', 'max_len':512}\n",
    "\n",
    "model_cfg  = SimpleNamespace(**model_cfg)\n",
    "train_cfg  = SimpleNamespace(**train_cfg)\n",
    "\n",
    "E = ExperimentHandler(model_cfg, None, train_cfg)\n",
    "E.finetune_experiment()"
   ]
  },
  {
   "cell_type": "code",
   "execution_count": null,
   "metadata": {},
   "outputs": [],
   "source": [
    "from src.experiment import ExperimentHandler\n",
    "from types import SimpleNamespace\n",
    "\n",
    "model_cfg  = {'system':'roberta', 'pooling':'first', 'hier':False, 'device':'cuda:0',\n",
    "              'save':True, 'exp_name':'letssee/enron', 'ensemble':10}\n",
    "\n",
    "train_cfg  = {'bsz':5, 'lr':1e-5, 'epochs':5, 'scheduling':True, 'optim':'adam',\n",
    "              'data_src':'enron', 'data_lim':None, 'loss':'mse', 'max_len':512}\n",
    "\n",
    "model_cfg  = SimpleNamespace(**model_cfg)\n",
    "train_cfg  = SimpleNamespace(**train_cfg)\n",
    "\n",
    "E = ExperimentHandler(model_cfg, None, train_cfg)\n",
    "E.regression_training(train_cfg)"
   ]
  },
  {
   "cell_type": "code",
   "execution_count": null,
   "metadata": {},
   "outputs": [
    {
     "name": "stdout",
     "output_type": "stream",
     "text": [
      "Model Parameters: \n",
      " namespace(device='cuda:0', ensemble=5, exp_name='baseline/clinton', hier=False, pooling='first', save=False, system='roberta') \n",
      "\n",
      "\n",
      "1 clinton   MSE:2.83  spear:0.332  acc:0.30  mean:6.427  var:0.021\n",
      "1 saving\n",
      "\n",
      "2 clinton   MSE:2.09  spear:0.624  acc:0.49  mean:6.550  var:0.298\n",
      "2 saving\n",
      "\n",
      "3 clinton   MSE:1.68  spear:0.651  acc:0.62  mean:6.317  var:0.939\n",
      "3 saving\n"
     ]
    }
   ],
   "source": [
    "model_cfg  = {'system':'roberta', 'pooling':'first', 'hier':False, 'device':'cuda:0',\n",
    "              'save':False, 'exp_name':'baseline/yahoo', 'ensemble':10}\n",
    "\n",
    "train_cfg  = {'bsz':5, 'lr':1e-5, 'epochs':5, 'scheduling':True, 'optim':'adam',\n",
    "              'data_src':'yahoo', 'data_lim':None, 'loss':'mse', 'max_len':512}\n",
    "\n",
    "model_cfg  = SimpleNamespace(**model_cfg)\n",
    "train_cfg  = SimpleNamespace(**train_cfg)\n",
    "\n",
    "E = ExperimentHandler(model_cfg, None, train_cfg)\n",
    "E.regression_training(train_cfg)"
   ]
  },
  {
   "cell_type": "code",
   "execution_count": null,
   "metadata": {},
   "outputs": [],
   "source": [
    "model_cfg  = {'system':'roberta', 'pooling':'first', 'hier':False, 'device':'cuda:0',\n",
    "              'save':False, 'exp_name':'baseline/yelp', 'ensemble':10}\n",
    "\n",
    "train_cfg  = {'bsz':5, 'lr':1e-5, 'epochs':5, 'scheduling':True, 'optim':'adam',\n",
    "              'data_src':'yelp', 'data_lim':None, 'loss':'mse', 'max_len':512}\n",
    "\n",
    "model_cfg  = SimpleNamespace(**model_cfg)\n",
    "train_cfg  = SimpleNamespace(**train_cfg)\n",
    "\n",
    "E = ExperimentHandler(model_cfg, None, train_cfg)\n",
    "E.regression_training(train_cfg)"
   ]
  }
 ],
 "metadata": {
  "kernelspec": {
   "display_name": "Python 3",
   "language": "python",
   "name": "python3"
  },
  "language_info": {
   "codemirror_mode": {
    "name": "ipython",
    "version": 3
   },
   "file_extension": ".py",
   "mimetype": "text/x-python",
   "name": "python",
   "nbconvert_exporter": "python",
   "pygments_lexer": "ipython3",
   "version": "3.8.5"
  }
 },
 "nbformat": 4,
 "nbformat_minor": 4
}
