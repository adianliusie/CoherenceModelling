{
 "cells": [
  {
   "cell_type": "code",
   "execution_count": 1,
   "metadata": {},
   "outputs": [],
   "source": [
    "from src.experiment import ExperimentHandler\n"
   ]
  },
  {
   "cell_type": "code",
   "execution_count": null,
   "metadata": {},
   "outputs": [
    {
     "name": "stdout",
     "output_type": "stream",
     "text": [
      "Parameters: Config(system='bert', pooling='attention', hier=False, bsz=5, lr=1e-05, epochs=10, scheduling=False, optimizer='adam', data_src='wiki_tiny', loss='ranking', c_num=1, schemes=[1], args=None, max_len=512, debug_sz=100, debug_cut=None, save=True, model_name='bert-flat-c1-rank')\n",
      "BEGINNING TRAINING:  2000 BATCHES PER EPOCH\n"
     ]
    },
    {
     "name": "stderr",
     "output_type": "stream",
     "text": [
      "100%|██████████| 10000/10000 [00:07<00:00, 1267.50it/s]\n"
     ]
    },
    {
     "name": "stdout",
     "output_type": "stream",
     "text": [
      "0  100    0.680   0.6653\n",
      "0  200    0.378   0.8380\n",
      "0  300    0.334   0.8540\n",
      "0  400    0.268   0.8860\n",
      "0  500    0.252   0.8860\n",
      "0  600    0.222   0.9200\n",
      "0  700    0.195   0.9160\n",
      "0  800    0.230   0.9120\n",
      "0  900    0.221   0.9120\n",
      "0  1000   0.200   0.9240\n",
      "0  1100   0.209   0.9080\n",
      "0  1200   0.171   0.9280\n",
      "0  1300   0.211   0.9300\n",
      "0  1400   0.192   0.9220\n",
      "0  1500   0.168   0.9400\n",
      "0  1600   0.175   0.9220\n",
      "0  1700   0.165   0.9220\n",
      "0  1800   0.179   0.9340\n",
      "0  1900   0.175   0.9240\n"
     ]
    },
    {
     "name": "stderr",
     "output_type": "stream",
     "text": [
      "100%|██████████| 2000/2000 [00:01<00:00, 1239.54it/s]\n"
     ]
    },
    {
     "name": "stdout",
     "output_type": "stream",
     "text": [
      "\n",
      " DEV  0.169   0.9340\n",
      "\n",
      "SAVING MODEL AT EPOCH 0\n"
     ]
    },
    {
     "name": "stderr",
     "output_type": "stream",
     "text": [
      "100%|██████████| 1000/1000 [00:01<00:00, 990.36it/s]\n",
      "100%|██████████| 1000/1000 [00:00<00:00, 1888475.46it/s]\n"
     ]
    },
    {
     "name": "stdout",
     "output_type": "stream",
     "text": [
      "GCDC correlation: PEAR 0.369    SPEAR P 0.359\n",
      "----------------------------------------------------------------------------------------------------\n"
     ]
    },
    {
     "name": "stderr",
     "output_type": "stream",
     "text": [
      "100%|██████████| 10000/10000 [00:08<00:00, 1214.08it/s]\n"
     ]
    },
    {
     "name": "stdout",
     "output_type": "stream",
     "text": [
      "1  100    0.096   0.9644\n",
      "1  200    0.135   0.9560\n",
      "1  300    0.116   0.9560\n",
      "1  400    0.132   0.9420\n",
      "1  500    0.088   0.9720\n",
      "1  600    0.088   0.9620\n",
      "1  700    0.103   0.9620\n",
      "1  800    0.100   0.9520\n",
      "1  900    0.140   0.9500\n",
      "1  1000   0.130   0.9520\n",
      "1  1100   0.115   0.9460\n",
      "1  1200   0.146   0.9400\n",
      "1  1300   0.086   0.9560\n",
      "1  1400   0.121   0.9560\n",
      "1  1500   0.140   0.9400\n",
      "1  1600   0.132   0.9500\n",
      "1  1700   0.124   0.9580\n",
      "1  1800   0.110   0.9540\n",
      "1  1900   0.081   0.9740\n"
     ]
    },
    {
     "name": "stderr",
     "output_type": "stream",
     "text": [
      "100%|██████████| 2000/2000 [00:01<00:00, 1293.55it/s]\n"
     ]
    },
    {
     "name": "stdout",
     "output_type": "stream",
     "text": [
      "\n",
      " DEV  0.146   0.9345\n",
      "\n",
      "SAVING MODEL AT EPOCH 1\n"
     ]
    },
    {
     "name": "stderr",
     "output_type": "stream",
     "text": [
      "100%|██████████| 1000/1000 [00:00<00:00, 1110.54it/s]\n",
      "100%|██████████| 1000/1000 [00:00<00:00, 2052007.83it/s]\n"
     ]
    },
    {
     "name": "stdout",
     "output_type": "stream",
     "text": [
      "GCDC correlation: PEAR 0.324    SPEAR P 0.315\n",
      "----------------------------------------------------------------------------------------------------\n"
     ]
    },
    {
     "name": "stderr",
     "output_type": "stream",
     "text": [
      "100%|██████████| 10000/10000 [00:07<00:00, 1253.13it/s]\n"
     ]
    },
    {
     "name": "stdout",
     "output_type": "stream",
     "text": [
      "2  100    0.088   0.9743\n",
      "2  200    0.091   0.9660\n",
      "2  300    0.085   0.9600\n",
      "2  400    0.072   0.9720\n",
      "2  500    0.122   0.9480\n",
      "2  600    0.091   0.9680\n",
      "2  700    0.069   0.9720\n",
      "2  800    0.092   0.9560\n",
      "2  900    0.109   0.9580\n",
      "2  1000   0.059   0.9840\n",
      "2  1100   0.087   0.9640\n",
      "2  1200   0.100   0.9580\n",
      "2  1300   0.092   0.9620\n",
      "2  1400   0.087   0.9680\n",
      "2  1500   0.062   0.9760\n",
      "2  1600   0.058   0.9840\n",
      "2  1700   0.081   0.9700\n",
      "2  1800   0.088   0.9640\n",
      "2  1900   0.057   0.9780\n"
     ]
    },
    {
     "name": "stderr",
     "output_type": "stream",
     "text": [
      "100%|██████████| 2000/2000 [00:01<00:00, 1289.98it/s]\n"
     ]
    },
    {
     "name": "stdout",
     "output_type": "stream",
     "text": [
      "\n",
      " DEV  0.130   0.9440\n",
      "\n",
      "SAVING MODEL AT EPOCH 2\n"
     ]
    },
    {
     "name": "stderr",
     "output_type": "stream",
     "text": [
      "100%|██████████| 1000/1000 [00:00<00:00, 1102.02it/s]\n",
      "100%|██████████| 1000/1000 [00:00<00:00, 1912587.32it/s]\n"
     ]
    },
    {
     "name": "stdout",
     "output_type": "stream",
     "text": [
      "GCDC correlation: PEAR 0.323    SPEAR P 0.318\n",
      "----------------------------------------------------------------------------------------------------\n"
     ]
    },
    {
     "name": "stderr",
     "output_type": "stream",
     "text": [
      "100%|██████████| 10000/10000 [00:07<00:00, 1256.13it/s]\n"
     ]
    },
    {
     "name": "stdout",
     "output_type": "stream",
     "text": [
      "3  100    0.058   0.9762\n",
      "3  200    0.078   0.9700\n",
      "3  300    0.073   0.9680\n",
      "3  400    0.074   0.9660\n",
      "3  500    0.038   0.9900\n",
      "3  600    0.103   0.9780\n",
      "3  700    0.056   0.9800\n",
      "3  800    0.066   0.9680\n",
      "3  900    0.044   0.9800\n",
      "3  1000   0.076   0.9720\n",
      "3  1100   0.056   0.9760\n",
      "3  1200   0.068   0.9720\n",
      "3  1300   0.086   0.9640\n",
      "3  1400   0.067   0.9740\n",
      "3  1500   0.061   0.9760\n",
      "3  1600   0.065   0.9740\n",
      "3  1700   0.083   0.9720\n",
      "3  1800   0.067   0.9700\n",
      "3  1900   0.059   0.9720\n"
     ]
    },
    {
     "name": "stderr",
     "output_type": "stream",
     "text": [
      "100%|██████████| 2000/2000 [00:01<00:00, 1288.32it/s]\n"
     ]
    },
    {
     "name": "stdout",
     "output_type": "stream",
     "text": [
      "\n",
      " DEV  0.148   0.9485\n",
      "\n",
      "SAVING MODEL AT EPOCH 3\n"
     ]
    },
    {
     "name": "stderr",
     "output_type": "stream",
     "text": [
      "100%|██████████| 1000/1000 [00:00<00:00, 1096.80it/s]\n",
      "100%|██████████| 1000/1000 [00:00<00:00, 2278274.85it/s]\n"
     ]
    },
    {
     "name": "stdout",
     "output_type": "stream",
     "text": [
      "GCDC correlation: PEAR 0.305    SPEAR P 0.300\n",
      "----------------------------------------------------------------------------------------------------\n"
     ]
    },
    {
     "name": "stderr",
     "output_type": "stream",
     "text": [
      "100%|██████████| 10000/10000 [00:07<00:00, 1252.02it/s]\n"
     ]
    },
    {
     "name": "stdout",
     "output_type": "stream",
     "text": [
      "4  100    0.047   0.9842\n",
      "4  200    0.050   0.9860\n",
      "4  300    0.051   0.9840\n",
      "4  400    0.063   0.9760\n",
      "4  500    0.064   0.9740\n",
      "4  600    0.054   0.9760\n",
      "4  700    0.084   0.9740\n",
      "4  800    0.044   0.9840\n",
      "4  900    0.062   0.9740\n",
      "4  1000   0.031   0.9900\n",
      "4  1100   0.058   0.9820\n",
      "4  1200   0.045   0.9860\n",
      "4  1300   0.065   0.9800\n",
      "4  1400   0.071   0.9720\n",
      "4  1500   0.042   0.9800\n",
      "4  1600   0.088   0.9680\n",
      "4  1700   0.053   0.9720\n",
      "4  1800   0.061   0.9800\n",
      "4  1900   0.069   0.9700\n"
     ]
    },
    {
     "name": "stderr",
     "output_type": "stream",
     "text": [
      "100%|██████████| 2000/2000 [00:01<00:00, 1264.07it/s]\n"
     ]
    },
    {
     "name": "stdout",
     "output_type": "stream",
     "text": [
      "\n",
      " DEV  0.135   0.9495\n",
      "\n",
      "SAVING MODEL AT EPOCH 4\n"
     ]
    },
    {
     "name": "stderr",
     "output_type": "stream",
     "text": [
      "100%|██████████| 1000/1000 [00:00<00:00, 1015.47it/s]\n",
      "100%|██████████| 1000/1000 [00:00<00:00, 2176597.82it/s]\n"
     ]
    },
    {
     "name": "stdout",
     "output_type": "stream",
     "text": [
      "GCDC correlation: PEAR 0.323    SPEAR P 0.317\n",
      "----------------------------------------------------------------------------------------------------\n"
     ]
    },
    {
     "name": "stderr",
     "output_type": "stream",
     "text": [
      "100%|██████████| 10000/10000 [00:07<00:00, 1252.47it/s]\n"
     ]
    },
    {
     "name": "stdout",
     "output_type": "stream",
     "text": [
      "5  100    0.062   0.9762\n",
      "5  200    0.045   0.9840\n",
      "5  300    0.040   0.9820\n",
      "5  400    0.053   0.9760\n",
      "5  500    0.043   0.9820\n",
      "5  600    0.027   0.9920\n",
      "5  700    0.084   0.9800\n",
      "5  800    0.021   0.9940\n",
      "5  900    0.042   0.9880\n",
      "5  1000   0.046   0.9800\n",
      "5  1100   0.072   0.9760\n",
      "5  1200   0.054   0.9820\n",
      "5  1300   0.053   0.9780\n",
      "5  1400   0.066   0.9760\n",
      "5  1500   0.061   0.9780\n",
      "5  1600   0.042   0.9820\n",
      "5  1700   0.072   0.9720\n",
      "5  1800   0.031   0.9900\n",
      "5  1900   0.052   0.9740\n"
     ]
    },
    {
     "name": "stderr",
     "output_type": "stream",
     "text": [
      "100%|██████████| 2000/2000 [00:01<00:00, 1279.21it/s]\n"
     ]
    },
    {
     "name": "stdout",
     "output_type": "stream",
     "text": [
      "\n",
      " DEV  0.155   0.9425\n",
      "\n"
     ]
    },
    {
     "name": "stderr",
     "output_type": "stream",
     "text": [
      "100%|██████████| 1000/1000 [00:00<00:00, 1096.09it/s]\n",
      "100%|██████████| 1000/1000 [00:00<00:00, 2014555.24it/s]\n"
     ]
    },
    {
     "name": "stdout",
     "output_type": "stream",
     "text": [
      "GCDC correlation: PEAR 0.314    SPEAR P 0.305\n",
      "----------------------------------------------------------------------------------------------------\n"
     ]
    },
    {
     "name": "stderr",
     "output_type": "stream",
     "text": [
      "100%|██████████| 10000/10000 [00:07<00:00, 1253.50it/s]\n"
     ]
    },
    {
     "name": "stdout",
     "output_type": "stream",
     "text": [
      "6  100    0.048   0.9861\n",
      "6  200    0.059   0.9800\n",
      "6  300    0.065   0.9740\n",
      "6  400    0.051   0.9780\n",
      "6  500    0.036   0.9900\n",
      "6  600    0.046   0.9880\n",
      "6  700    0.045   0.9860\n",
      "6  800    0.040   0.9860\n",
      "6  900    0.032   0.9920\n",
      "6  1000   0.023   0.9920\n",
      "6  1100   0.024   0.9940\n",
      "6  1200   0.057   0.9800\n",
      "6  1300   0.059   0.9680\n",
      "6  1400   0.024   0.9880\n",
      "6  1500   0.038   0.9840\n",
      "6  1600   0.035   0.9840\n",
      "6  1700   0.059   0.9820\n",
      "6  1800   0.034   0.9820\n",
      "6  1900   0.041   0.9820\n"
     ]
    },
    {
     "name": "stderr",
     "output_type": "stream",
     "text": [
      "100%|██████████| 2000/2000 [00:01<00:00, 1235.01it/s]\n"
     ]
    },
    {
     "name": "stdout",
     "output_type": "stream",
     "text": [
      "\n",
      " DEV  0.145   0.9480\n",
      "\n"
     ]
    },
    {
     "name": "stderr",
     "output_type": "stream",
     "text": [
      "100%|██████████| 1000/1000 [00:00<00:00, 1084.37it/s]\n",
      "100%|██████████| 1000/1000 [00:00<00:00, 2090879.36it/s]\n"
     ]
    },
    {
     "name": "stdout",
     "output_type": "stream",
     "text": [
      "GCDC correlation: PEAR 0.294    SPEAR P 0.283\n",
      "----------------------------------------------------------------------------------------------------\n"
     ]
    },
    {
     "name": "stderr",
     "output_type": "stream",
     "text": [
      "100%|██████████| 10000/10000 [00:07<00:00, 1260.02it/s]\n"
     ]
    },
    {
     "name": "stdout",
     "output_type": "stream",
     "text": [
      "7  100    0.053   0.9762\n",
      "7  200    0.050   0.9760\n",
      "7  300    0.041   0.9840\n",
      "7  400    0.029   0.9860\n",
      "7  500    0.029   0.9880\n",
      "7  600    0.034   0.9840\n",
      "7  700    0.048   0.9800\n",
      "7  800    0.021   0.9920\n",
      "7  900    0.032   0.9860\n",
      "7  1000   0.037   0.9860\n",
      "7  1100   0.032   0.9840\n",
      "7  1200   0.051   0.9800\n",
      "7  1300   0.027   0.9920\n",
      "7  1400   0.056   0.9800\n",
      "7  1500   0.043   0.9840\n",
      "7  1600   0.030   0.9900\n",
      "7  1700   0.032   0.9860\n",
      "7  1800   0.059   0.9780\n",
      "7  1900   0.034   0.9880\n"
     ]
    },
    {
     "name": "stderr",
     "output_type": "stream",
     "text": [
      "100%|██████████| 2000/2000 [00:01<00:00, 1291.20it/s]\n"
     ]
    },
    {
     "name": "stdout",
     "output_type": "stream",
     "text": [
      "\n",
      " DEV  0.143   0.9510\n",
      "\n",
      "SAVING MODEL AT EPOCH 7\n"
     ]
    },
    {
     "name": "stderr",
     "output_type": "stream",
     "text": [
      "100%|██████████| 1000/1000 [00:00<00:00, 1093.45it/s]\n",
      "100%|██████████| 1000/1000 [00:00<00:00, 2146522.01it/s]\n"
     ]
    },
    {
     "name": "stdout",
     "output_type": "stream",
     "text": [
      "GCDC correlation: PEAR 0.290    SPEAR P 0.280\n",
      "----------------------------------------------------------------------------------------------------\n"
     ]
    },
    {
     "name": "stderr",
     "output_type": "stream",
     "text": [
      "100%|██████████| 10000/10000 [00:08<00:00, 1249.56it/s]\n"
     ]
    },
    {
     "name": "stdout",
     "output_type": "stream",
     "text": [
      "8  100    0.034   0.9901\n",
      "8  200    0.025   0.9860\n",
      "8  300    0.036   0.9840\n",
      "8  400    0.025   0.9920\n",
      "8  500    0.043   0.9800\n",
      "8  600    0.053   0.9820\n",
      "8  700    0.041   0.9920\n",
      "8  800    0.027   0.9920\n",
      "8  900    0.022   0.9920\n",
      "8  1000   0.044   0.9800\n",
      "8  1100   0.075   0.9740\n",
      "8  1200   0.031   0.9840\n",
      "8  1300   0.039   0.9900\n",
      "8  1400   0.024   0.9880\n",
      "8  1500   0.031   0.9860\n",
      "8  1600   0.048   0.9840\n",
      "8  1700   0.030   0.9920\n",
      "8  1800   0.056   0.9820\n",
      "8  1900   0.031   0.9880\n"
     ]
    },
    {
     "name": "stderr",
     "output_type": "stream",
     "text": [
      "100%|██████████| 2000/2000 [00:01<00:00, 1280.74it/s]\n"
     ]
    },
    {
     "name": "stdout",
     "output_type": "stream",
     "text": [
      "\n",
      " DEV  0.132   0.9570\n",
      "\n",
      "SAVING MODEL AT EPOCH 8\n"
     ]
    },
    {
     "name": "stderr",
     "output_type": "stream",
     "text": [
      "100%|██████████| 1000/1000 [00:00<00:00, 1102.62it/s]\n",
      "100%|██████████| 1000/1000 [00:00<00:00, 2003967.51it/s]\n"
     ]
    },
    {
     "name": "stdout",
     "output_type": "stream",
     "text": [
      "GCDC correlation: PEAR 0.296    SPEAR P 0.288\n",
      "----------------------------------------------------------------------------------------------------\n"
     ]
    },
    {
     "name": "stderr",
     "output_type": "stream",
     "text": [
      "100%|██████████| 10000/10000 [00:07<00:00, 1258.58it/s]\n"
     ]
    },
    {
     "name": "stdout",
     "output_type": "stream",
     "text": [
      "9  100    0.039   0.9901\n",
      "9  200    0.026   0.9900\n",
      "9  300    0.043   0.9840\n",
      "9  400    0.024   0.9900\n",
      "9  500    0.037   0.9880\n",
      "9  600    0.024   0.9940\n",
      "9  700    0.042   0.9840\n",
      "9  800    0.013   0.9960\n",
      "9  900    0.032   0.9820\n",
      "9  1000   0.024   0.9900\n",
      "9  1100   0.045   0.9780\n",
      "9  1200   0.031   0.9860\n",
      "9  1300   0.029   0.9860\n",
      "9  1400   0.051   0.9840\n",
      "9  1500   0.033   0.9880\n",
      "9  1600   0.037   0.9860\n",
      "9  1700   0.037   0.9900\n",
      "9  1800   0.065   0.9740\n",
      "9  1900   0.047   0.9820\n"
     ]
    },
    {
     "name": "stderr",
     "output_type": "stream",
     "text": [
      "100%|██████████| 2000/2000 [00:01<00:00, 1279.85it/s]\n"
     ]
    },
    {
     "name": "stdout",
     "output_type": "stream",
     "text": [
      "\n",
      " DEV  0.155   0.9455\n",
      "\n"
     ]
    },
    {
     "name": "stderr",
     "output_type": "stream",
     "text": [
      "100%|██████████| 1000/1000 [00:00<00:00, 1025.18it/s]\n",
      "100%|██████████| 1000/1000 [00:00<00:00, 2073308.95it/s]\n"
     ]
    },
    {
     "name": "stdout",
     "output_type": "stream",
     "text": [
      "GCDC correlation: PEAR 0.310    SPEAR P 0.298\n",
      "----------------------------------------------------------------------------------------------------\n"
     ]
    },
    {
     "name": "stderr",
     "output_type": "stream",
     "text": [
      "100%|██████████| 1000/1000 [00:00<00:00, 1096.01it/s]\n",
      "100%|██████████| 1000/1000 [00:00<00:00, 1979378.95it/s]\n"
     ]
    },
    {
     "name": "stdout",
     "output_type": "stream",
     "text": [
      "GCDC correlation: PEAR 0.313    SPEAR P 0.299\n"
     ]
    },
    {
     "name": "stderr",
     "output_type": "stream",
     "text": [
      "100%|██████████| 2000/2000 [00:01<00:00, 1275.43it/s]\n",
      " 52%|█████▏    | 4145/8000 [03:11<04:38, 13.85it/s]"
     ]
    }
   ],
   "source": [
    "from collections import namedtuple\n",
    "\n",
    "train_config =  {'system':'bert', 'pooling':'attention', 'hier':False, \n",
    "                'bsz':5, 'lr':1e-5, 'epochs':10, 'scheduling':False, 'optimizer':'adam',\n",
    "                'data_src':'wiki_tiny', 'loss':'ranking', 'c_num':1, 'schemes':[1], 'args':None,\n",
    "                'max_len':512, 'debug_sz':100, 'debug_cut':None,\n",
    "                'save':True, 'model_name':'bert-flat-c1-rank'}\n",
    "\n",
    "ConfigTruple = namedtuple('Config', train_config)\n",
    "config = ConfigTruple(**train_config)\n",
    "\n",
    "E = ExperimentHandler()\n",
    "E.train_corruption(config)\n",
    "E.eval_GCDC(config)\n",
    "E.eval_corruption(config)\n"
   ]
  },
  {
   "cell_type": "markdown",
   "metadata": {},
   "source": [
    "train_config =  {'system':'glove', 'pooling':'attention', 'hier':True, \n",
    "                'bsz':32, 'lr':1e-3, 'epochs':30, 'scheduling':False, 'optimizer':'rmsprop',\n",
    "                'data_src':'wsj', 'loss':'classification', 'c_num':20, 'schemes':[1], 'args':None,\n",
    "                'max_len':512, 'debug_sz':50, 'debug_cut':None, 'gcdc_sz':3000,\n",
    "                'save':False, 'model_name':'glove-flat'}"
   ]
  },
  {
   "cell_type": "markdown",
   "metadata": {},
   "source": [
    "import json\n",
    "def save_json(path, data):\n",
    "    with open(path, 'x') as jsonFile:\n",
    "        json.dump(data, jsonFile)\n",
    "        jsonFile.close()\n",
    "\n",
    "save_json('./config.json', train_config)"
   ]
  }
 ],
 "metadata": {
  "kernelspec": {
   "display_name": "Python 3",
   "language": "python",
   "name": "python3"
  },
  "language_info": {
   "codemirror_mode": {
    "name": "ipython",
    "version": 3
   },
   "file_extension": ".py",
   "mimetype": "text/x-python",
   "name": "python",
   "nbconvert_exporter": "python",
   "pygments_lexer": "ipython3",
   "version": "3.8.5"
  }
 },
 "nbformat": 4,
 "nbformat_minor": 4
}
