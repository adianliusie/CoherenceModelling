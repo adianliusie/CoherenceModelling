{
 "cells": [
  {
   "cell_type": "code",
   "execution_count": 1,
   "metadata": {},
   "outputs": [],
   "source": [
    "from src.experiment import ExperimentHandler"
   ]
  },
  {
   "cell_type": "code",
   "execution_count": null,
   "metadata": {
    "scrolled": true
   },
   "outputs": [
    {
     "name": "stdout",
     "output_type": "stream",
     "text": [
      "Corrupted Training Parameters: \n",
      " namespace(args=None, bsz=5, c_num=1, check_len=500, data_src='wiki_small', debug_len=None, epochs=1, loss='ranking', lr=1e-05, max_len=512, optim='adam', print_len=100, scheduling=False, schemes=[1])\n",
      "BEGINNING TRAINING: ~20000 BATCHES PER EPOCH\n"
     ]
    },
    {
     "name": "stderr",
     "output_type": "stream",
     "text": [
      "100%|██████████| 100000/100000 [02:51<00:00, 582.76it/s]\n"
     ]
    },
    {
     "name": "stdout",
     "output_type": "stream",
     "text": [
      "1  100    0.683    0.5901\n",
      "1  200    0.491    0.7880\n",
      "1  300    0.342    0.8460\n",
      "1  400    0.293    0.8880\n",
      "1  500    0.245    0.9120\n",
      "--------------------------------------------------------------------------------\n",
      "clinton     MSE:59.56  spear:0.230  acc:0.29\n",
      "enron       MSE:49.35  spear:0.193  acc:0.33\n",
      "yahoo       MSE:46.29  spear:0.163  acc:0.47\n",
      "yelp        MSE:38.76  spear:0.281  acc:0.24\n",
      "--------------------------------------------------------------------------------\n",
      "SAVING MODEL AT EPOCH 1\n",
      "1  600    0.258    0.8900\n",
      "1  700    0.258    0.8980\n",
      "1  800    0.261    0.8960\n",
      "1  900    0.259    0.8960\n",
      "1  1000   0.195    0.9120\n",
      "--------------------------------------------------------------------------------\n",
      "clinton     MSE:56.44  spear:0.244  acc:0.29\n",
      "enron       MSE:43.98  spear:0.207  acc:0.33\n",
      "yahoo       MSE:33.34  spear:0.191  acc:0.47\n",
      "yelp        MSE:37.85  spear:0.289  acc:0.24\n",
      "--------------------------------------------------------------------------------\n",
      "SAVING MODEL AT EPOCH 1\n",
      "1  1100   0.173    0.9420\n",
      "1  1200   0.232    0.8960\n",
      "1  1300   0.207    0.9040\n",
      "1  1400   0.179    0.9160\n",
      "1  1500   0.183    0.9240\n",
      "--------------------------------------------------------------------------------\n",
      "clinton     MSE:99.61  spear:0.341  acc:0.29\n",
      "enron       MSE:87.52  spear:0.310  acc:0.33\n",
      "yahoo       MSE:75.26  spear:0.235  acc:0.47\n",
      "yelp        MSE:76.58  spear:0.250  acc:0.24\n",
      "--------------------------------------------------------------------------------\n",
      "SAVING MODEL AT EPOCH 1\n",
      "1  1600   0.213    0.9120\n",
      "1  1700   0.176    0.9260\n",
      "1  1800   0.178    0.9080\n",
      "1  1900   0.195    0.9140\n",
      "1  2000   0.159    0.9400\n",
      "--------------------------------------------------------------------------------\n",
      "clinton     MSE:60.69  spear:0.304  acc:0.29\n",
      "enron       MSE:42.39  spear:0.296  acc:0.33\n",
      "yahoo       MSE:27.30  spear:0.174  acc:0.47\n",
      "yelp        MSE:30.57  spear:0.381  acc:0.24\n",
      "--------------------------------------------------------------------------------\n",
      "SAVING MODEL AT EPOCH 1\n",
      "1  2100   0.168    0.9220\n",
      "1  2200   0.163    0.9340\n",
      "1  2300   0.183    0.9380\n",
      "1  2400   0.154    0.9360\n",
      "1  2500   0.163    0.9300\n",
      "--------------------------------------------------------------------------------\n",
      "clinton     MSE:55.96  spear:0.336  acc:0.29\n",
      "enron       MSE:37.41  spear:0.164  acc:0.32\n",
      "yahoo       MSE:23.92  spear:0.207  acc:0.47\n",
      "yelp        MSE:31.53  spear:0.287  acc:0.23\n",
      "--------------------------------------------------------------------------------\n",
      "1  2600   0.168    0.9240\n",
      "1  2700   0.167    0.9300\n",
      "1  2800   0.143    0.9400\n",
      "1  2900   0.098    0.9680\n",
      "1  3000   0.158    0.9280\n",
      "--------------------------------------------------------------------------------\n",
      "clinton     MSE:98.29  spear:0.318  acc:0.29\n",
      "enron       MSE:70.91  spear:0.139  acc:0.32\n",
      "yahoo       MSE:34.23  spear:0.188  acc:0.47\n",
      "yelp        MSE:49.38  spear:0.206  acc:0.23\n",
      "--------------------------------------------------------------------------------\n",
      "1  3100   0.168    0.9360\n",
      "1  3200   0.163    0.9380\n"
     ]
    }
   ],
   "source": [
    "from types import SimpleNamespace\n",
    "\n",
    "model_cfg  = {'system':'bert', 'pooling':'first', 'hier':False, 'save':False, 'device':'cuda'}\n",
    "\n",
    "ptrain_cfg = {'bsz':5, 'lr':1e-5, 'epochs':1, 'scheduling':False, 'optim':'adam',\n",
    "              'data_src':'wiki_small', 'loss':'ranking', 'c_num':1, 'schemes':[1], 'args':None,\n",
    "              'max_len':512, 'print_len':100, 'debug_len':None, 'check_len':500}\n",
    "\n",
    "train_cfg  = {'bsz':5, 'lr':1e-5, 'epochs':4, 'scheduling':False, 'optim':'adam',\n",
    "              'data_src':'gcdc', 'data_lim':None, 'loss':'mse', 'max_len':512, 'print_len':40}\n",
    "\n",
    "model_cfg  = SimpleNamespace(**model_cfg)\n",
    "ptrain_cfg = SimpleNamespace(**ptrain_cfg)\n",
    "train_cfg  = SimpleNamespace(**train_cfg)\n",
    "\n",
    "#ptrain_cfg = None\n",
    "E = ExperimentHandler(model_cfg, ptrain_cfg, train_cfg)"
   ]
  },
  {
   "cell_type": "code",
   "execution_count": null,
   "metadata": {},
   "outputs": [],
   "source": [
    "from src.utils import Batcher, DataHandler, Logger\n",
    "\n",
    "D = DataHandler('gcdc')\n"
   ]
  },
  {
   "cell_type": "markdown",
   "metadata": {},
   "source": [
    "train_config =  {'system':'glove', 'pooling':'attention', 'hier':True, \n",
    "                'bsz':32, 'lr':1e-3, 'epochs':30, 'scheduling':False, 'optimizer':'rmsprop',\n",
    "                'data_src':'wsj', 'loss':'classification', 'c_num':20, 'schemes':[1], 'args':None,\n",
    "                'max_len':512, 'debug_sz':50, 'debug_cut':None, 'gcdc_sz':3000,\n",
    "                'save':False, 'model_name':'glove-flat'}"
   ]
  },
  {
   "cell_type": "markdown",
   "metadata": {},
   "source": [
    "import json\n",
    "def save_json(path, data):\n",
    "    with open(path, 'x') as jsonFile:\n",
    "        json.dump(data, jsonFile)\n",
    "        jsonFile.close()\n",
    "\n",
    "save_json('./config.json', train_config)"
   ]
  }
 ],
 "metadata": {
  "kernelspec": {
   "display_name": "Python 3",
   "language": "python",
   "name": "python3"
  },
  "language_info": {
   "codemirror_mode": {
    "name": "ipython",
    "version": 3
   },
   "file_extension": ".py",
   "mimetype": "text/x-python",
   "name": "python",
   "nbconvert_exporter": "python",
   "pygments_lexer": "ipython3",
   "version": "3.8.5"
  }
 },
 "nbformat": 4,
 "nbformat_minor": 4
}
